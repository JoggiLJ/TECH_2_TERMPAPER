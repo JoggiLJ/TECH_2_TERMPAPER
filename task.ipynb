{
 "cells": [
  {
   "cell_type": "markdown",
   "metadata": {},
   "source": [
    "TASK 1"
   ]
  },
  {
   "cell_type": "code",
   "execution_count": 33,
   "metadata": {},
   "outputs": [
    {
     "data": {
      "text/html": [
       "<div>\n",
       "<style scoped>\n",
       "    .dataframe tbody tr th:only-of-type {\n",
       "        vertical-align: middle;\n",
       "    }\n",
       "\n",
       "    .dataframe tbody tr th {\n",
       "        vertical-align: top;\n",
       "    }\n",
       "\n",
       "    .dataframe thead th {\n",
       "        text-align: right;\n",
       "    }\n",
       "</style>\n",
       "<table border=\"1\" class=\"dataframe\">\n",
       "  <thead>\n",
       "    <tr style=\"text-align: right;\">\n",
       "      <th></th>\n",
       "      <th>DateTime\\tResolutionCode\\tAreaCode\\tAreaTypeCode\\tAreaName\\tMapCode\\tPrice\\tCurrency\\tUpdateTime</th>\n",
       "    </tr>\n",
       "  </thead>\n",
       "  <tbody>\n",
       "    <tr>\n",
       "      <th>0</th>\n",
       "      <td>2021-05-01 00:00:00.000\\tPT60M\\t10Y1001A1001A4...</td>\n",
       "    </tr>\n",
       "    <tr>\n",
       "      <th>1</th>\n",
       "      <td>2021-05-01 01:00:00.000\\tPT60M\\t10Y1001A1001A4...</td>\n",
       "    </tr>\n",
       "    <tr>\n",
       "      <th>2</th>\n",
       "      <td>2021-05-01 02:00:00.000\\tPT60M\\t10Y1001A1001A4...</td>\n",
       "    </tr>\n",
       "    <tr>\n",
       "      <th>3</th>\n",
       "      <td>2021-05-01 03:00:00.000\\tPT60M\\t10Y1001A1001A4...</td>\n",
       "    </tr>\n",
       "    <tr>\n",
       "      <th>4</th>\n",
       "      <td>2021-05-01 04:00:00.000\\tPT60M\\t10Y1001A1001A4...</td>\n",
       "    </tr>\n",
       "    <tr>\n",
       "      <th>...</th>\n",
       "      <td>...</td>\n",
       "    </tr>\n",
       "    <tr>\n",
       "      <th>2109212</th>\n",
       "      <td>2019-08-07 17:00:00.000\\tPT60M\\t10YSI-ELES----...</td>\n",
       "    </tr>\n",
       "    <tr>\n",
       "      <th>2109213</th>\n",
       "      <td>2019-08-07 18:00:00.000\\tPT60M\\t10YSI-ELES----...</td>\n",
       "    </tr>\n",
       "    <tr>\n",
       "      <th>2109214</th>\n",
       "      <td>2019-08-07 19:00:00.000\\tPT60M\\t10YSI-ELES----...</td>\n",
       "    </tr>\n",
       "    <tr>\n",
       "      <th>2109215</th>\n",
       "      <td>2019-08-07 20:00:00.000\\tPT60M\\t10YSI-ELES----...</td>\n",
       "    </tr>\n",
       "    <tr>\n",
       "      <th>2109216</th>\n",
       "      <td>2019-08-07 21:00:00.000\\tPT60M\\t10YSI-ELES----...</td>\n",
       "    </tr>\n",
       "  </tbody>\n",
       "</table>\n",
       "<p>2109217 rows × 1 columns</p>\n",
       "</div>"
      ],
      "text/plain": [
       "        DateTime\\tResolutionCode\\tAreaCode\\tAreaTypeCode\\tAreaName\\tMapCode\\tPrice\\tCurrency\\tUpdateTime\n",
       "0        2021-05-01 00:00:00.000\\tPT60M\\t10Y1001A1001A4...                                              \n",
       "1        2021-05-01 01:00:00.000\\tPT60M\\t10Y1001A1001A4...                                              \n",
       "2        2021-05-01 02:00:00.000\\tPT60M\\t10Y1001A1001A4...                                              \n",
       "3        2021-05-01 03:00:00.000\\tPT60M\\t10Y1001A1001A4...                                              \n",
       "4        2021-05-01 04:00:00.000\\tPT60M\\t10Y1001A1001A4...                                              \n",
       "...                                                    ...                                              \n",
       "2109212  2019-08-07 17:00:00.000\\tPT60M\\t10YSI-ELES----...                                              \n",
       "2109213  2019-08-07 18:00:00.000\\tPT60M\\t10YSI-ELES----...                                              \n",
       "2109214  2019-08-07 19:00:00.000\\tPT60M\\t10YSI-ELES----...                                              \n",
       "2109215  2019-08-07 20:00:00.000\\tPT60M\\t10YSI-ELES----...                                              \n",
       "2109216  2019-08-07 21:00:00.000\\tPT60M\\t10YSI-ELES----...                                              \n",
       "\n",
       "[2109217 rows x 1 columns]"
      ]
     },
     "execution_count": 33,
     "metadata": {},
     "output_type": "execute_result"
    }
   ],
   "source": [
    "import pandas as pd\n",
    "import glob\n",
    "\n",
    "DATA_PATH = 'data/DayAheadPrices_12.1.D/*.csv'\n",
    "\n",
    "files = glob.glob(DATA_PATH)\n",
    "\n",
    "df_price_all = pd.concat([pd.read_csv(file) for file in files], ignore_index=True)\n",
    "\n",
    "df_price_all"
   ]
  },
  {
   "cell_type": "code",
   "execution_count": null,
   "metadata": {},
   "outputs": [],
   "source": []
  }
 ],
 "metadata": {
  "kernelspec": {
   "display_name": "TECH2",
   "language": "python",
   "name": "python3"
  },
  "language_info": {
   "codemirror_mode": {
    "name": "ipython",
    "version": 3
   },
   "file_extension": ".py",
   "mimetype": "text/x-python",
   "name": "python",
   "nbconvert_exporter": "python",
   "pygments_lexer": "ipython3",
   "version": "3.12.7"
  }
 },
 "nbformat": 4,
 "nbformat_minor": 2
}
